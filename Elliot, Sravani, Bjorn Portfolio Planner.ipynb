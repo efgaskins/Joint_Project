{
 "cells": [
  {
   "cell_type": "code",
   "execution_count": 1,
   "metadata": {},
   "outputs": [],
   "source": [
    "import numpy as np\n",
    "import pandas as pd\n",
    "from pathlib import Path\n",
    "%matplotlib inline"
   ]
  },
  {
   "cell_type": "code",
   "execution_count": null,
   "metadata": {},
   "outputs": [],
   "source": [
    "#Set path for Historical Closing Prices\n",
    "bk_data = Path(\"Resources/bk_data.csv\")\n",
    "fang_data = Path(\"Resources/fang_data.csv\")\n",
    "jnj_data = Path(\"Resources/jnj_data.csv\")\n",
    "luv_data = Path(\"Resources/luv_data.csv\")\n",
    "mu_data = Path(\"Resources/mu_data.csv\")\n",
    "nke_data = Path(\"Resources/nke_data.csv\")\n",
    "sbux_data = Path(\"Resources/sbux_data.csv\")\n",
    "t_data = Path(\"Resources/t_data.csv\")\n",
    "wdc_data = Path(\"Resources/wdc_data.csv\")\n",
    "wrk_data = Path(\"Resources/wrk_data.csv\")\n",
    "\n",
    "bk = pd.read_csv(bk_data, index_col=\"Trade DATE\", infer_datetime_format=True, parse_dates=True)\n",
    "fang = pd.read_csv(fang_data, index_col=\"Trade DATE\", infer_datetime_format=True, parse_dates=True)\n",
    "jnj = pd.read_csv(jnj_data, index_col=\"Trade DATE\", infer_datetime_format=True, parse_dates=True)\n",
    "luv = pd.read_csv(luv_data, index_col=\"Trade DATE\", infer_datetime_format=True, parse_dates=True)\n",
    "mu = pd.read_csv(mu_data, index_col=\"Trade DATE\", infer_datetime_format=True, parse_dates=True)\n",
    "nke = pd.read_csv(nke_data, index_col=\"Trade DATE\", infer_datetime_format=True, parse_dates=True)"
   ]
  }
 ],
 "metadata": {
  "kernelspec": {
   "display_name": "Python 3",
   "language": "python",
   "name": "python3"
  },
  "language_info": {
   "codemirror_mode": {
    "name": "ipython",
    "version": 3
   },
   "file_extension": ".py",
   "mimetype": "text/x-python",
   "name": "python",
   "nbconvert_exporter": "python",
   "pygments_lexer": "ipython3",
   "version": "3.8.3"
  }
 },
 "nbformat": 4,
 "nbformat_minor": 4
}
